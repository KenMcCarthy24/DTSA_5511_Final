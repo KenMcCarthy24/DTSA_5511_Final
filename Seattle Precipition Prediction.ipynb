{
 "cells": [
  {
   "cell_type": "markdown",
   "id": "9b701bad",
   "metadata": {},
   "source": [
    "Github Repo Link: https://github.com/KenMcCarthy24/DTSA_5511_Final"
   ]
  },
  {
   "cell_type": "markdown",
   "id": "53ffd309",
   "metadata": {},
   "source": [
    "# Introduction"
   ]
  },
  {
   "cell_type": "markdown",
   "id": "5eed7c16",
   "metadata": {},
   "source": [
    "The goal of this project is to use deep learning techniques to build a model that can predict, with high accuracy, whether it will rain on a given day in Seattle, Washington, based on the weather data from the previous day. Seattle is well known for being a rainy city for much of the year but also has more varied weather patterns as well, making it a good place to use for a case study. Traditional meteorological models, while often accurate, rely on large-scale physics simulations of atmospheric conditions, and often need significant computational resources. In contrast, this project explores the feasibility of a smaller, more specialized model focused solely on predicting rainfall in a specific location, in this case Seattle.\n",
    "\n",
    "If successful, this approach could be a precursor to the development of a large amount of individualized models, each tailored to predict rainfall (or potentially other weather phenomena) in different locations. This would offer a more computationally efficient alternative to the existing large-scale models, potentially benefiting a variety of sectors including agriculture, urban planning, and disaster management. By focusing on the localized nuances of weather patterns, these specialized models could provide more accurate and actionable insights for diverse geographical locations."
   ]
  },
  {
   "cell_type": "markdown",
   "id": "a2eb0b22",
   "metadata": {},
   "source": [
    "# Imports"
   ]
  },
  {
   "cell_type": "code",
   "execution_count": null,
   "id": "fae99b19",
   "metadata": {
    "ExecuteTime": {
     "end_time": "2023-10-08T18:12:56.467569Z",
     "start_time": "2023-10-08T18:12:52.192098Z"
    }
   },
   "outputs": [],
   "source": [
    "import calendar\n",
    "import json\n",
    "import os\n",
    "import shutil\n",
    "from datetime import datetime\n",
    "\n",
    "import numpy as np\n",
    "import pandas as pd\n",
    "import tensorflow as tf\n",
    "from meteostat import Stations, Point, Hourly\n",
    "import matplotlib.pyplot as plt\n",
    "import plotly.graph_objs as go\n",
    "import plotly.subplots as sbplt\n",
    "from sklearn.metrics import accuracy_score, f1_score, roc_auc_score\n",
    "from sklearn.model_selection import train_test_split\n",
    "from sklearn.preprocessing import StandardScaler\n",
    "from keras.callbacks import ModelCheckpoint\n",
    "from keras.layers import Bidirectional, Dense, GRU, LSTM, SimpleRNN\n",
    "from keras.models import Sequential\n",
    "from tensorflow.keras import backend as K"
   ]
  },
  {
   "cell_type": "markdown",
   "id": "c15438c5",
   "metadata": {
    "ExecuteTime": {
     "end_time": "2023-09-15T20:39:12.727860Z",
     "start_time": "2023-09-15T20:39:12.712846Z"
    }
   },
   "source": [
    "# Create Dataset"
   ]
  },
  {
   "cell_type": "markdown",
   "id": "84bac4c3",
   "metadata": {},
   "source": [
    "The first step in this project is to obtain a dataset of historical weather data in Seattle. This will be done through a python library known as `meteostat`, which provides an interface for obtaining hour by hour weather data. Meteostat allows the user to pull down weather data from any latitude and longitude and it will interpolate data from nearby weather stations to predict the weather data at a given point.\n",
    "\n",
    "In order to remove the uncertainty in that interpolation, this project will try to predict the rainfall at the exact point of a weather station so interpolation isn't necessary. The weather station that will be used is the one at Seattle-Tacoma Airport. The below code finds information about that weather station and, most importantly, gets the World Meteorological Organization (WMO) ID, which is needed to lookup data from that station."
   ]
  },
  {
   "cell_type": "code",
   "execution_count": null,
   "id": "fc10323a",
   "metadata": {
    "ExecuteTime": {
     "end_time": "2023-10-08T18:12:59.108359Z",
     "start_time": "2023-10-08T18:12:57.735408Z"
    },
    "scrolled": true
   },
   "outputs": [],
   "source": [
    "latitude = 47.458250\n",
    "longitude = -122.291170\n",
    "\n",
    "stations = Stations()\n",
    "stations = stations.nearby(latitude, longitude)\n",
    "station = stations.fetch(1)\n",
    "station.head()"
   ]
  },
  {
   "cell_type": "markdown",
   "id": "ef3d408c",
   "metadata": {},
   "source": [
    "Next, the `meteostat` library will be used to get a dataset that consists of hourly weather data. The dataset will start on 1-1-2017 and end on 9-15-2023 (the date at time of writing). Below is a table that explains all of the channels that 'meteostat' provides. This table is sourced directly from the `meteostat` documentation: https://dev.meteostat.net/python/hourly.html#example"
   ]
  },
  {
   "cell_type": "markdown",
   "id": "a156ad6e",
   "metadata": {},
   "source": [
    "| Variable | Description                                   | Data Type  |\n",
    "|----------|-----------------------------------------------|------------|\n",
    "| time     | The datetime of the observation               | Datetime64 |\n",
    "| temp     | The air temperature in °C                     | Float64    |\n",
    "| dwpt     | The dew point in °C                           | Float64    |\n",
    "| rhum     | The relative humidity in percent (%)          | Float64    |\n",
    "| prcp     | The one hour precipitation total in mm        | Float64    |\n",
    "| snow     | The snow depth in mm                          | Float64    |\n",
    "| wdir     | The average wind direction in degrees (°)     | Float64    |\n",
    "| wspd     | The average wind speed in km/h                | Float64    |\n",
    "| wpgt     | The peak wind gust in km/h                    | Float64    |\n",
    "| pres     | The average sea-level air pressure in hPa     | Float64    |\n",
    "| tsun     | The one hour sunshine total in minutes (m)    | Float64    |\n",
    "| coco     | The weather condition code                    | Float64    |\n"
   ]
  },
  {
   "cell_type": "code",
   "execution_count": null,
   "id": "d574e6ce",
   "metadata": {
    "ExecuteTime": {
     "end_time": "2023-10-08T18:13:02.335886Z",
     "start_time": "2023-10-08T18:12:59.110360Z"
    }
   },
   "outputs": [],
   "source": [
    "start_date = datetime(2017, 1, 1)\n",
    "end_date = datetime(2023, 9, 15, 23, 59)\n",
    "\n",
    "weather_data_df = Hourly(station.iloc[0].wmo, start_date, end_date).fetch()\n",
    "print(f\"Weather Dataframe has shape {weather_data_df.shape}\")\n",
    "\n",
    "weather_data_df.head()"
   ]
  },
  {
   "cell_type": "markdown",
   "id": "84b0d799",
   "metadata": {},
   "source": [
    "# Cleaning and EDA"
   ]
  },
  {
   "cell_type": "markdown",
   "id": "8b570feb",
   "metadata": {},
   "source": [
    "From the preview of the dataset above, it can be seen that several of the columns have NaN values. NaNs do not work very well with the machine learning approaches that will be used below so it is necessary to know how many Nans there are per column."
   ]
  },
  {
   "cell_type": "code",
   "execution_count": null,
   "id": "07e33a9b",
   "metadata": {
    "ExecuteTime": {
     "end_time": "2023-10-08T18:13:02.351891Z",
     "start_time": "2023-10-08T18:13:02.337888Z"
    }
   },
   "outputs": [],
   "source": [
    "weather_data_df.isna().sum()"
   ]
  },
  {
   "cell_type": "markdown",
   "id": "eca9e9e4",
   "metadata": {},
   "source": [
    "The columns of `snow`, `wpgt`, and `tsun` do not have any non-NaN values in this time range so they will be removed. Additionally the columns of `coco` and `wdir` will also be removed. `coco` is a weather condition code and wouldn't be useful for machine learning and `wdir` represents the wind direction, which is unlikely to be a useful feature for predicting rainfall.\n",
    "\n",
    "Of the remaining columns, only `prcp` and `pres` have NaNs. There are not that many NaN values in `pres`, so linear interpolation will be used to inpute the missing data. As for `prcp`, it will be assumed that a NaN in this column implies there was no rainfall so each NaN will be replaced with a 0. "
   ]
  },
  {
   "cell_type": "code",
   "execution_count": null,
   "id": "18e7fad5",
   "metadata": {
    "ExecuteTime": {
     "end_time": "2023-10-08T18:13:02.383049Z",
     "start_time": "2023-10-08T18:13:02.353891Z"
    }
   },
   "outputs": [],
   "source": [
    "weather_data_df_clean = weather_data_df.drop([\"snow\", \"wpgt\", \"tsun\", \"coco\", \"wdir\"], axis=1).fillna(0)\n",
    "weather_data_df_clean.pres = weather_data_df_clean.pres.interpolate(method=\"linear\")\n",
    "weather_data_df_clean.head()"
   ]
  },
  {
   "cell_type": "code",
   "execution_count": null,
   "id": "ea931586",
   "metadata": {
    "ExecuteTime": {
     "end_time": "2023-10-08T18:13:02.399063Z",
     "start_time": "2023-10-08T18:13:02.385052Z"
    }
   },
   "outputs": [],
   "source": [
    "weather_data_df_clean.isna().sum()"
   ]
  },
  {
   "cell_type": "markdown",
   "id": "b7d9478a",
   "metadata": {
    "ExecuteTime": {
     "end_time": "2023-10-05T17:56:07.434139Z",
     "start_time": "2023-10-05T17:56:07.425131Z"
    }
   },
   "source": [
    "Now it can bee seen above that each row in the data has valid numbers. "
   ]
  },
  {
   "cell_type": "markdown",
   "id": "541d20d6",
   "metadata": {},
   "source": [
    "Next, histograms will be made for the six weather channels to get an idea of their distribution and check for outliers."
   ]
  },
  {
   "cell_type": "code",
   "execution_count": null,
   "id": "08709693",
   "metadata": {
    "ExecuteTime": {
     "end_time": "2023-10-08T18:13:04.533417Z",
     "start_time": "2023-10-08T18:13:03.063083Z"
    }
   },
   "outputs": [],
   "source": [
    "rows, cols = 2, 3\n",
    "\n",
    "fig, axes = plt.subplots(nrows=rows, ncols=cols, figsize=(15, 10))\n",
    "for idx, col in enumerate(weather_data_df_clean.columns):\n",
    "    ax = axes[idx // cols, idx % cols]\n",
    "    ax.hist(weather_data_df_clean[col], bins=100, edgecolor='k', alpha=0.65)\n",
    "    ax.set_title(col)\n",
    "\n",
    "plt.tight_layout()\n",
    "plt.show()"
   ]
  },
  {
   "cell_type": "markdown",
   "id": "00164066",
   "metadata": {},
   "source": [
    "Observations:\n",
    "* Temperature, Dew Point, Relative Humidity seem to be clean with no significant outliers\n",
    "* Precipitation, Wind Speed, and Pressure all have significant outliers that need to be investigated"
   ]
  },
  {
   "cell_type": "markdown",
   "id": "6d66f6d1",
   "metadata": {},
   "source": [
    "In order to visualize the outliers in Precipitation, Wind Speed, and Pressure, a plot of the time series for each will be made."
   ]
  },
  {
   "cell_type": "code",
   "execution_count": null,
   "id": "08cc1c23",
   "metadata": {
    "ExecuteTime": {
     "end_time": "2023-10-08T18:13:07.776259Z",
     "start_time": "2023-10-08T18:13:06.806379Z"
    }
   },
   "outputs": [],
   "source": [
    "fig, axs = plt.subplots(3, 1, figsize=(10, 10), sharex=True)\n",
    "\n",
    "# Precipitation Plot\n",
    "axs[0].plot(weather_data_df_clean.index, weather_data_df_clean.prcp)\n",
    "axs[0].set_title('Prcp')\n",
    "axs[0].set_ylabel('Precipitation (mm)')\n",
    "\n",
    "# Wind Speed Plot\n",
    "axs[1].plot(weather_data_df_clean.index, weather_data_df_clean.wspd)\n",
    "axs[1].set_title('Wspd')\n",
    "axs[1].set_ylabel('Wind Speed (km/h)')\n",
    "\n",
    "# Pressure Plot\n",
    "axs[2].plot(weather_data_df_clean.index, weather_data_df_clean.pres)\n",
    "axs[2].set_title('Pres')\n",
    "axs[2].set_ylabel('Pressure (hPa)')\n",
    "\n",
    "plt.tight_layout()\n",
    "plt.show()\n"
   ]
  },
  {
   "cell_type": "markdown",
   "id": "fc7312e7",
   "metadata": {},
   "source": [
    "Observations:\n",
    "* The outliers in precipitation are still reasonable values for rainfall, so they will not be removed.\n",
    "* There are only a few points where the windspeed goes to almost 100. These are likely not real measurements and will be filtered out\n",
    "* During 2017 and 2018 the pressure often dropped to zero. These cannot be physical as that would mean the atmosphere disappeared and it appears this weather stations stops reporting these zero pressures after mid-2018. These zero pressure values need to be removed "
   ]
  },
  {
   "cell_type": "markdown",
   "id": "418864b2",
   "metadata": {},
   "source": [
    "Based on the above observations, the outliers in wind speed and pressure will be filtered out and replaced with interpolated values "
   ]
  },
  {
   "cell_type": "code",
   "execution_count": null,
   "id": "45c52c4a",
   "metadata": {
    "ExecuteTime": {
     "end_time": "2023-10-08T18:13:10.791086Z",
     "start_time": "2023-10-08T18:13:10.774070Z"
    }
   },
   "outputs": [],
   "source": [
    "# Replace winds speeds above 80 and pressures of 0 with NaN\n",
    "weather_data_df_clean.loc[weather_data_df_clean['wspd'] > 80, 'wspd'] = np.nan\n",
    "weather_data_df_clean.loc[weather_data_df_clean['pres'] == 0, 'pres'] = np.nan"
   ]
  },
  {
   "cell_type": "code",
   "execution_count": null,
   "id": "2fa4a1aa",
   "metadata": {
    "ExecuteTime": {
     "end_time": "2023-10-08T18:13:10.948125Z",
     "start_time": "2023-10-08T18:13:10.925886Z"
    }
   },
   "outputs": [],
   "source": [
    "# Interpolate nans again\n",
    "weather_data_df_clean.wspd = weather_data_df_clean.wspd.interpolate(method=\"linear\")\n",
    "weather_data_df_clean.pres = weather_data_df_clean.pres.interpolate(method=\"linear\")"
   ]
  },
  {
   "cell_type": "markdown",
   "id": "6b841bc3",
   "metadata": {},
   "source": [
    "With those outliers removed the histograms of all channels will be visualized again"
   ]
  },
  {
   "cell_type": "code",
   "execution_count": null,
   "id": "34d6237a",
   "metadata": {
    "ExecuteTime": {
     "end_time": "2023-10-08T18:13:13.184648Z",
     "start_time": "2023-10-08T18:13:11.599216Z"
    }
   },
   "outputs": [],
   "source": [
    "rows, cols = 2, 3\n",
    "\n",
    "fig, axes = plt.subplots(nrows=rows, ncols=cols, figsize=(15, 10))\n",
    "for idx, col in enumerate(weather_data_df_clean.columns):\n",
    "    ax = axes[idx // cols, idx % cols]\n",
    "    ax.hist(weather_data_df_clean[col], bins=100, edgecolor='k', alpha=0.65)\n",
    "    ax.set_title(col)\n",
    "\n",
    "plt.tight_layout()\n",
    "plt.show()"
   ]
  },
  {
   "cell_type": "markdown",
   "id": "2f7119bb",
   "metadata": {},
   "source": [
    "Now the distributions of all channels are much more clean and contain only believable values."
   ]
  },
  {
   "cell_type": "markdown",
   "id": "8900f5bc",
   "metadata": {},
   "source": [
    "As a final EDA step, a correlation matrix will be made in order to visualize any collinearities between columns."
   ]
  },
  {
   "cell_type": "code",
   "execution_count": null,
   "id": "20d61af5",
   "metadata": {
    "ExecuteTime": {
     "end_time": "2023-10-08T18:13:13.439260Z",
     "start_time": "2023-10-08T18:13:13.186651Z"
    }
   },
   "outputs": [],
   "source": [
    "corr_matrix = weather_data_df_clean.corr()\n",
    "plt.matshow(corr_matrix)\n",
    "plt.xticks(range(weather_data_df_clean.shape[1]), weather_data_df_clean.columns, fontsize=14, rotation=45)\n",
    "plt.yticks(range(weather_data_df_clean.shape[1]), weather_data_df_clean.columns, fontsize=14)\n",
    "\n",
    "for i in range(corr_matrix.shape[0]):\n",
    "    for j in range(corr_matrix.shape[1]):\n",
    "        plt.text(j, i, f\"{corr_matrix.iloc[i, j]:.2f}\", ha='center', va='center', fontsize=12)\n",
    "\n",
    "cb = plt.colorbar()\n",
    "plt.show()"
   ]
  },
  {
   "cell_type": "markdown",
   "id": "c2030785",
   "metadata": {},
   "source": [
    "Based on this correlation matrix, it seems that all columns are independent of each other with the exception of `temp` and `dwpt`, which have a positive correlation and `rhum` and `temp`, which have a negative correlation. These correlations makes some sense as the dew point is itself a temperature below which dew will start to form so it is likely to be correlated with ambient temperature and relative humidity is the amount of water vapor the atmosphere can hold at a given ambient temperature, so it is also likely to be correlated to temperature.\n",
    "\n",
    "The deep learning models that will be used below should be resilient against collinearities within the training data, but is is still worthwhile to note these collinearities as a possible future avenue for model improvement."
   ]
  },
  {
   "cell_type": "markdown",
   "id": "5cc2a4d3",
   "metadata": {},
   "source": [
    "# Create Data Arrays"
   ]
  },
  {
   "cell_type": "markdown",
   "id": "6690be3b",
   "metadata": {},
   "source": [
    "The goal of this project is to predict whether it will rain on a given day based on the weather data from the previous day. Currently, the dataset consists of hourly weather measurements across six different weather data channels, which is not the ideal format for achieving the project's goals. To address this, the input features need to be reshaped into individual days, resulting in a (n_days, 24, n_channels) array that will serve as the input features for the machine learning models. All weather data columns will be utilized, with the exception of `prcp`, which will be used for the target. "
   ]
  },
  {
   "cell_type": "code",
   "execution_count": null,
   "id": "0471e2ee",
   "metadata": {
    "ExecuteTime": {
     "end_time": "2023-10-08T18:13:22.696309Z",
     "start_time": "2023-10-08T18:13:22.678302Z"
    }
   },
   "outputs": [],
   "source": [
    "n_days = int(weather_data_df_clean.shape[0]/24)\n",
    "feature_columns = [\"temp\", \"dwpt\", \"rhum\", \"wspd\", \"pres\"]\n",
    "\n",
    "X = weather_data_df_clean[feature_columns].values.reshape((n_days, 24, len(feature_columns)))\n",
    "X.shape"
   ]
  },
  {
   "cell_type": "markdown",
   "id": "7b630cc6",
   "metadata": {},
   "source": [
    "The `prcp` column will be used to create the target vector. For each day in the dataset, the `prcp` data is summed up to determine the total daily precipitation. This value is then converted into a binary format, where 0 means no rain on that day, and 1 indicates rainfall. Finally, the binary rainy days vector is shifted by one position to represent whether it will rain the next day.\n",
    "\n",
    "Note: For simplicity's sake this project will refer to all days with precipitation as rainy days. However the precipitation could, in real life, have taken on many different forms such as rain, snow, sleet, or hail. "
   ]
  },
  {
   "cell_type": "code",
   "execution_count": null,
   "id": "e8248a2d",
   "metadata": {
    "ExecuteTime": {
     "end_time": "2023-10-08T18:13:25.887338Z",
     "start_time": "2023-10-08T18:13:25.871323Z"
    }
   },
   "outputs": [],
   "source": [
    "precipitation_data = weather_data_df_clean[\"prcp\"].values.reshape((n_days, 24))\n",
    "total_daily_precipitation = np.sum(precipitation_data, axis=1)\n",
    "rainy_days_binary = (total_daily_precipitation > 0).astype(int)\n",
    "shifted_rainy_days_binary = np.roll(rainy_days_binary, -1)\n",
    "y = shifted_rainy_days_binary\n",
    "y.shape"
   ]
  },
  {
   "cell_type": "markdown",
   "id": "6e621f54",
   "metadata": {},
   "source": [
    "Additionally, an array will be created that represents what day each time series represents, stored as a datetime object."
   ]
  },
  {
   "cell_type": "code",
   "execution_count": null,
   "id": "7efe926c",
   "metadata": {
    "ExecuteTime": {
     "end_time": "2023-10-08T18:13:26.203595Z",
     "start_time": "2023-10-08T18:13:26.166579Z"
    }
   },
   "outputs": [],
   "source": [
    "days = np.unique(weather_data_df_clean.index.date)\n",
    "days.shape"
   ]
  },
  {
   "cell_type": "markdown",
   "id": "0cdf8021",
   "metadata": {},
   "source": [
    "Due to the shifting of the target variable data by one index using `np.roll()`, the last day in the dataset no longer has a meaningful label. This is because it would imply predicting rainfall on the first day of the dataset using data from five years later, which is not logical. Therefore, this day is excluded from the dataset."
   ]
  },
  {
   "cell_type": "code",
   "execution_count": null,
   "id": "d6069334",
   "metadata": {
    "ExecuteTime": {
     "end_time": "2023-10-08T18:13:26.502102Z",
     "start_time": "2023-10-08T18:13:26.486086Z"
    }
   },
   "outputs": [],
   "source": [
    "X = X[:-1]\n",
    "y = y[:-1]\n",
    "days = days[:-1]"
   ]
  },
  {
   "cell_type": "markdown",
   "id": "a220308e",
   "metadata": {},
   "source": [
    "Next, a plot will be made to visualize the distribution of rainy days for each month of the year."
   ]
  },
  {
   "cell_type": "code",
   "execution_count": null,
   "id": "0ec1bf4c",
   "metadata": {
    "ExecuteTime": {
     "end_time": "2023-10-08T18:13:27.132843Z",
     "start_time": "2023-10-08T18:13:26.871038Z"
    }
   },
   "outputs": [],
   "source": [
    "months = np.array([calendar.month_name[day.month] for day in days], dtype=object)\n",
    "rainy_day_idxs = np.where(y == np.ones(len(y)))[0]\n",
    "rainy_day_months = months[rainy_day_idxs]\n",
    "\n",
    "fig = go.Figure()\n",
    "fig.add_trace(go.Histogram(x=rainy_day_months))\n",
    "\n",
    "fig.update_yaxes(title_text=\"Rainy Day Count\")\n",
    "fig.update_xaxes(\n",
    "    title_text=\"Month\",\n",
    "    type='category',\n",
    "    categoryorder='array',\n",
    "    categoryarray=['January', 'February', 'March', 'April', 'May', 'June', 'July',\n",
    "                   'August', 'September', 'October', 'November', 'December']\n",
    ")\n",
    "\n",
    "fig.show()"
   ]
  },
  {
   "cell_type": "markdown",
   "id": "bfcd374f",
   "metadata": {},
   "source": [
    "From this plot it can be seen that the winter and spring months have the most precipitation while the summer months have the least. "
   ]
  },
  {
   "cell_type": "markdown",
   "id": "52935623",
   "metadata": {},
   "source": [
    "Finally, a plot will be made to visualize the distribution of labels in the dataset to check for any imbalance."
   ]
  },
  {
   "cell_type": "code",
   "execution_count": null,
   "id": "83f5ccdd",
   "metadata": {
    "ExecuteTime": {
     "end_time": "2023-10-08T18:13:28.160635Z",
     "start_time": "2023-10-08T18:13:28.087563Z"
    }
   },
   "outputs": [],
   "source": [
    "_, counts = np.unique(y, return_counts=True)\n",
    "plt.pie(counts/np.sum(counts), labels=[\"Won't Rain\", \"Will Rain\"], autopct='%1.1f%%')\n",
    "plt.show()"
   ]
  },
  {
   "cell_type": "markdown",
   "id": "74238687",
   "metadata": {},
   "source": [
    "The data is slightly imbalanced, with 58% of the days in the dataset having no rain the next day and the remaining 42% having rain the next day. This imbalance, however, is not large enough to consider using any data balancing techniques."
   ]
  },
  {
   "cell_type": "markdown",
   "id": "3beb3993",
   "metadata": {},
   "source": [
    "# Train/Validate/Test Split"
   ]
  },
  {
   "cell_type": "markdown",
   "id": "26b031ed",
   "metadata": {},
   "source": [
    "Next the dataset created above will be split into train, validate, and test data. The test data will be all days that are in the year 2023. This means that all models will be trained on what amounts to historical data and used to predict future rainfall on a day by day basis. Remaining data from 2017-2022 will be randomly split 80/20 into a Train and Validation set. "
   ]
  },
  {
   "cell_type": "code",
   "execution_count": null,
   "id": "7dcd7f7f",
   "metadata": {
    "ExecuteTime": {
     "end_time": "2023-10-08T18:13:31.126316Z",
     "start_time": "2023-10-08T18:13:31.119309Z"
    }
   },
   "outputs": [],
   "source": [
    "test_indices = np.where(np.array([days[i].year for i in range(len(days))]) == 2023)[0]\n",
    "X_test = X[test_indices]\n",
    "y_test = y[test_indices]\n",
    "days_test = days[test_indices]"
   ]
  },
  {
   "cell_type": "code",
   "execution_count": null,
   "id": "2fe2a872",
   "metadata": {
    "ExecuteTime": {
     "end_time": "2023-10-08T18:13:31.285422Z",
     "start_time": "2023-10-08T18:13:31.271409Z"
    }
   },
   "outputs": [],
   "source": [
    "remaining_indices = np.array(range(len(days[:-X_test.shape[0]])))\n",
    "train_indices, validate_indices = train_test_split(remaining_indices, test_size=0.2, random_state=42)"
   ]
  },
  {
   "cell_type": "code",
   "execution_count": null,
   "id": "ba7d796a",
   "metadata": {
    "ExecuteTime": {
     "end_time": "2023-10-08T18:13:31.424835Z",
     "start_time": "2023-10-08T18:13:31.406819Z"
    }
   },
   "outputs": [],
   "source": [
    "X_train = X[train_indices]\n",
    "y_train = y[train_indices]\n",
    "days_train = days[train_indices]\n",
    "\n",
    "X_validate = X[validate_indices]\n",
    "y_validate = y[validate_indices]\n",
    "days_validate = days[validate_indices]"
   ]
  },
  {
   "cell_type": "code",
   "execution_count": null,
   "id": "19cea9d8",
   "metadata": {
    "ExecuteTime": {
     "end_time": "2023-10-08T18:13:31.582062Z",
     "start_time": "2023-10-08T18:13:31.567048Z"
    }
   },
   "outputs": [],
   "source": [
    "print(f\"Training Data shape: {X_train.shape}\")\n",
    "print(f\"Validation Data shape: {X_validate.shape}\")\n",
    "print(f\"Testing Data shape: {X_test.shape}\")"
   ]
  },
  {
   "cell_type": "markdown",
   "id": "a1e680e6",
   "metadata": {},
   "source": [
    "# Normalize Data"
   ]
  },
  {
   "cell_type": "markdown",
   "id": "c60ee034",
   "metadata": {},
   "source": [
    "All of the data channels that make up the input data have vastly different magnitudes of values. For example the values in the `dwpt` channels are single or double digit numbers while values in the `pres` column are two orders of magnitude higher. This difference in data magnitude is not ideal for machine learning so the data will be standardized in order to make all data have 0 mean and unit standard deviation. This standardization will be fit on the training data and applied to the training and validation sets in order to prevent a data leak. "
   ]
  },
  {
   "cell_type": "code",
   "execution_count": null,
   "id": "999d6aa6",
   "metadata": {
    "ExecuteTime": {
     "end_time": "2023-10-08T18:13:32.287057Z",
     "start_time": "2023-10-08T18:13:32.272043Z"
    }
   },
   "outputs": [],
   "source": [
    "scaler = StandardScaler()\n",
    "scaler.fit(X_train.reshape((X_train.shape[0]*X_train.shape[1], X_train.shape[2])))"
   ]
  },
  {
   "cell_type": "code",
   "execution_count": null,
   "id": "3a02b9bb",
   "metadata": {
    "ExecuteTime": {
     "end_time": "2023-10-08T18:13:33.964068Z",
     "start_time": "2023-10-08T18:13:33.943048Z"
    }
   },
   "outputs": [],
   "source": [
    "X_train_norm = scaler.transform(X_train.reshape((X_train.shape[0]*X_train.shape[1], X_train.shape[2]))).reshape(X_train.shape)\n",
    "X_validate_norm = scaler.transform(X_validate.reshape((X_validate.shape[0]*X_validate.shape[1], X_validate.shape[2]))).reshape(X_validate.shape)\n",
    "X_test_norm = scaler.transform(X_test.reshape((X_test.shape[0]*X_test.shape[1], X_test.shape[2]))).reshape(X_test.shape)"
   ]
  },
  {
   "cell_type": "markdown",
   "id": "7e997cbb",
   "metadata": {},
   "source": [
    "# Model Trainer Class"
   ]
  },
  {
   "cell_type": "markdown",
   "id": "05995a68",
   "metadata": {},
   "source": [
    "Next, in order to speed up iteration on the model and reduce repeated code, the `ModelTrainer` class will be defined that contains methods for fitting and evaluating models. The methods in the class are:\n",
    "* `fit()`: Trains the model given the given training and validation data for a given number of epochs and with a given batch size. The final model as well as the training history is saved to file so it can be easily loaded in later without re-training the model, which happens if `load_from_file` is True. If `show_results` is true the results of the training are shown. \n",
    "* `plot_history()`: Creates three plots that plot the train and validation loss, accuracy, and F1 score over the training epochs.\n",
    "* `print_best_model()`: Prints a summary of the best performing model, defined as the model with the lowest validation loss. \n",
    "* `predict()`: Given an input matrix X, predicts the target label\n",
    "* `evaluate()`: Given an input matrix X and a target vector y, calculates the accuracy and F1 score of the model.\n",
    "\n",
    "One callbacks will be used for model training:\n",
    "* `ModelCheckpoint()`: This outputs the best model to file during training"
   ]
  },
  {
   "cell_type": "code",
   "execution_count": null,
   "id": "c31f81bf",
   "metadata": {
    "ExecuteTime": {
     "end_time": "2023-10-08T18:13:35.170333Z",
     "start_time": "2023-10-08T18:13:35.143308Z"
    }
   },
   "outputs": [],
   "source": [
    "class ModelTrainer():\n",
    "    def __init__(self, model, folder_path, name):\n",
    "        self.model = model\n",
    "        self.folder_path = folder_path\n",
    "        self.name = name\n",
    "        self.history = None\n",
    "        \n",
    "    def fit(self, X_train, y_train, X_validate, y_validate, epochs=100, batch_size=32, load_from_file=False, show_results=True):\n",
    "        # Define model filepaths\n",
    "        model_file = os.path.join(self.folder_path, \"model.ckpt\")\n",
    "        history_file = os.path.join(self.folder_path, \"history.json\")\n",
    "        \n",
    "        if load_from_file and os.path.isfile(history_file):\n",
    "            # Load existing model from file\n",
    "            self.model.load_weights(model_file).expect_partial()\n",
    "            with open(history_file) as f:\n",
    "                self.history = json.load(f)\n",
    "                \n",
    "        else:\n",
    "            # Make output directory if it doesn't exist and delete everything in it\n",
    "            os.makedirs(self.folder_path, exist_ok=True)\n",
    "            shutil.rmtree(self.folder_path)\n",
    "\n",
    "            # Define callbacks\n",
    "            model_checkpoint = ModelCheckpoint(model_file, monitor=\"val_loss\", save_weights_only=True, save_best_only=True, verbose=0)\n",
    "\n",
    "            # Train model\n",
    "            self.history = self.model.fit(X_train, y_train, validation_data=[X_validate, y_validate], epochs=epochs, batch_size=batch_size,\n",
    "                                    callbacks=[model_checkpoint], verbose=0).history\n",
    "\n",
    "            # Write trained model history to file\n",
    "            with open(history_file, \"w+\") as f:\n",
    "                json.dump(self.history, f)\n",
    "                \n",
    "            # Restore best model weights from file\n",
    "            self.model.load_weights(model_file).expect_partial()\n",
    "              \n",
    "        if show_results:\n",
    "            self.plot_history()\n",
    "            self.print_best_model()\n",
    "            \n",
    "\n",
    "    def plot_history(self):\n",
    "        fig, axes = plt.subplots(1, 3, figsize=(15, 5))\n",
    "        \n",
    "        epochs = list(range(1, len(self.history[\"loss\"])+1))\n",
    "\n",
    "        # Plotting Loss\n",
    "        axes[0].plot(epochs, self.history[\"loss\"], label='Training Loss')\n",
    "        axes[0].plot(epochs, self.history[\"val_loss\"], label='Validation Loss')\n",
    "        axes[0].set_title('Loss')\n",
    "        axes[0].set_xlabel('Epochs')\n",
    "        axes[0].set_ylabel('Loss')\n",
    "        axes[0].legend()\n",
    "\n",
    "        # Plotting Accuracy\n",
    "        axes[1].plot(epochs, self.history[\"accuracy\"], label='Training Accuracy')\n",
    "        axes[1].plot(epochs, self.history[\"val_accuracy\"], label='Validation Accuracy')\n",
    "        axes[1].set_title('Accuracy')\n",
    "        axes[1].set_xlabel('Epochs')\n",
    "        axes[1].set_ylabel('Accuracy')\n",
    "        axes[1].legend()\n",
    "\n",
    "        # Plotting custom_f1_score\n",
    "        axes[2].plot(epochs, self.history[\"custom_f1_score\"], label='Training F1 Score')\n",
    "        axes[2].plot(epochs, self.history[\"val_custom_f1_score\"], label='Validation F1 Score')\n",
    "        axes[2].set_title('F1 Score')\n",
    "        axes[2].set_xlabel('Epochs')\n",
    "        axes[2].set_ylabel('F1 Score')\n",
    "        axes[2].legend()\n",
    "\n",
    "        plt.tight_layout()\n",
    "        plt.show()\n",
    "\n",
    "        \n",
    "    def print_best_model(self):\n",
    "        best_idx = np.argmin(self.history[\"val_loss\"])\n",
    "        print(f\"Best Epoch: {best_idx + 1}\")\n",
    "        print(f\"Best Validation Loss: {self.history['val_loss'][best_idx]}\")\n",
    "        print(f\"Best Accuracy: {self.history['accuracy'][best_idx]}\")\n",
    "        print(f\"Best F1 Score: {self.history['val_custom_f1_score'][best_idx]}\")\n",
    "        \n",
    "    def predict(self, X):\n",
    "        return np.round(self.model.predict(X, verbose=0)).astype(int).flatten()\n",
    "        \n",
    "    def evaluate(self, X, y):\n",
    "        y_hat = self.predict(X)\n",
    "        acc = accuracy_score(y, y_hat)\n",
    "        f1 = f1_score(y, y_hat)        \n",
    "        return acc, f1\n",
    "        "
   ]
  },
  {
   "cell_type": "markdown",
   "id": "0c6c0650",
   "metadata": {},
   "source": [
    "Also an implementation of the F1 score to be used as a metric for evaluation of models needs to be defined. This implementation was sourced from: https://saturncloud.io/blog/custom-f1score-metric-in-tensorflow/"
   ]
  },
  {
   "cell_type": "code",
   "execution_count": null,
   "id": "f7cb099a",
   "metadata": {
    "ExecuteTime": {
     "end_time": "2023-10-08T18:13:36.312198Z",
     "start_time": "2023-10-08T18:13:36.303182Z"
    }
   },
   "outputs": [],
   "source": [
    "def custom_f1_score(y_true, y_pred):\n",
    "    # Define the true positives, false positives and false negatives\n",
    "    tp = K.sum(K.round(K.clip(y_true * y_pred, 0, 1)))\n",
    "    fp = K.sum(K.round(K.clip(y_pred - y_true, 0, 1)))\n",
    "    fn = K.sum(K.round(K.clip(y_true - y_pred, 0, 1)))\n",
    "\n",
    "    # Calculate the precision and recall\n",
    "    precision = tp / (tp + fp + K.epsilon())\n",
    "    recall = tp / (tp + fn + K.epsilon())\n",
    "\n",
    "    # Calculate the F1 score\n",
    "    f1_score = 2 * ((precision * recall) / (precision + recall + K.epsilon()))\n",
    "\n",
    "    return f1_score"
   ]
  },
  {
   "cell_type": "markdown",
   "id": "4d0abcf8",
   "metadata": {},
   "source": [
    "# Model Ensemble Class"
   ]
  },
  {
   "cell_type": "markdown",
   "id": "089c031d",
   "metadata": {},
   "source": [
    "It is expected that each model will have some amount of variance in how accurate its predictions are due to randomness in the training process causing the optimization to find different minima within the loss function space. Therefore, for each model, not just one model will be trained, but several. This way, the variance in model accuracy can be visualized to better understand how well a model architecture does on average, rather than just for one particular random optimization. Additionally, it will also be investigated if allowing multiple identical architecture but separately trained models to vote on if it will rain or not performs better than the individual models.\n",
    "\n",
    "To assist with this the `ModelEnsemble` class will be defined that stores multiple trained models and has methods for evaluating them all at once. The methods in this class are:\n",
    "* `fit_models()`: A class method that trains a specified number of models using a provided model function and data, initializing and fitting each ModelTrainer instance. It can optionally load models from file and display results, returning a ModelEnsemble instance containing the trained models.\n",
    "\n",
    "* `ensemble_predict()`: Aggregates predictions from all models in the ensemble for a given input matrix X and returns the majority vote as the ensemble's prediction, effectively implementing a form of model averaging to reduce variance and potentially improve accuracy.\n",
    "\n",
    "* `evaluate_models()`: Iterates through each model in the ensemble and evaluates their individual performance using the provided input matrix X and target vector y, returning a list of accuracies for each model.\n",
    "\n",
    "* `evaluate_ensemble()`: Evaluates the overall performance of the ensemble by comparing the ensemble's aggregated predictions to the target vector y, calculating the accuracy of the ensemble model.\n",
    "\n",
    "* `get_violin_plot_traces()`: Generates violin plot traces for visualizing the distribution of accuracies of individual models in the ensemble, along with a scatter point representing the ensemble's overall accuracy, facilitating the comparison and analysis of model variance and ensemble performance."
   ]
  },
  {
   "cell_type": "code",
   "execution_count": null,
   "id": "2fa180ff",
   "metadata": {
    "ExecuteTime": {
     "end_time": "2023-10-08T18:13:37.431224Z",
     "start_time": "2023-10-08T18:13:37.414208Z"
    }
   },
   "outputs": [],
   "source": [
    "class ModelEnsemble:\n",
    "    def __init__(self, N, name, model_trainers, folder_path):\n",
    "        self.N = N\n",
    "        self.name = name\n",
    "        self.model_trainers = model_trainers\n",
    "        self.folder_path = folder_path\n",
    "        \n",
    "    @classmethod\n",
    "    def fit_models(cls, N_models, ensemble_name, model_function, folder_path,\n",
    "                   X_train, y_train, X_validate, y_validate,\n",
    "                   load_from_file=False, show_results=True):\n",
    "        \n",
    "        model_trainers = []\n",
    "        for i in range(N_models):\n",
    "            model_trainer = ModelTrainer(model_function(), os.path.join(folder_path, ensemble_name, str(i)), f\"{ensemble_name}{i}\")\n",
    "            model_trainer.fit(X_train, y_train, X_validate, y_validate, epochs=150, batch_size=512, load_from_file=load_from_file, show_results=show_results)\n",
    "            \n",
    "            model_trainers.append(model_trainer)\n",
    "            \n",
    "        return cls(N_models, ensemble_name, model_trainers, folder_path)\n",
    "    \n",
    "    def ensemble_predict(self, X):\n",
    "        ensemble_predictions = np.empty((self.N, len(X)))\n",
    "        for i in range(len(self.model_trainers)):\n",
    "            ensemble_predictions[i] = self.model_trainers[i].predict(X)\n",
    "\n",
    "        return (np.mean(ensemble_predictions, axis=0) > 0.5).astype(int)\n",
    "    \n",
    "    def evaluate_models(self, X, y):\n",
    "        accuracies = []\n",
    "        for model_trainer in self.model_trainers:\n",
    "            acc, _ = model_trainer.evaluate(X, y)\n",
    "            accuracies.append(acc)\n",
    "        \n",
    "        return accuracies\n",
    "    \n",
    "    def evaluate_ensemble(self, X, y):\n",
    "        y_hat_ensemble = self.ensemble_predict(X)\n",
    "        acc = accuracy_score(y, y_hat_ensemble)\n",
    "        return acc\n",
    "    \n",
    "    def get_violin_plot_traces(self, X, y):\n",
    "        model_accuracies = self.evaluate_models(X, y)\n",
    "        ensemble_accuracy = self.evaluate_ensemble(X, y)\n",
    "        \n",
    "        traces = [\n",
    "            go.Violin(y=model_accuracies, pointpos=0, points=\"all\", meanline_visible=True, name=self.name, legendgroup=self.name),\n",
    "            go.Scatter(x=[self.name], y=[ensemble_accuracy], marker=dict(color=\"black\", size=10), showlegend=False, legendgroup=self.name)\n",
    "        ]\n",
    "        \n",
    "        return traces\n",
    "        "
   ]
  },
  {
   "cell_type": "markdown",
   "id": "a14ee5e5",
   "metadata": {},
   "source": [
    "# Recurrant Neural Networks"
   ]
  },
  {
   "attachments": {
    "RNN%20Image-2.PNG": {
     "image/png": "[encoded data removed]"
    }
   },
   "cell_type": "markdown",
   "id": "80e8f4bd",
   "metadata": {},
   "source": [
    "Now that the training, validation, and testing data along with the above helper classes have been defined, an ensemble of models can now be fit to the training data to try and predict if it will rain in Seattle on a given day. At its core, this problem is a binary classification problem that is trying to predict a boolean label for a set of multi-channel time series data. The sequential nature of time series data means that the best choice for a neural network architecture to use for this problem is likely to be a Recurrent Neural Network (RNN). Below is a diagram of a basic RNN architecture.\n",
    "\n",
    "![RNN%20Image-2.PNG](attachment:RNN%20Image-2.PNG)\n",
    "\n",
    "An RNN layer takes as input some input matrix $X = [\\vec{x_1}, \\vec{x_2}, \\vec{x_3}, \\ldots, \\vec{x_L}]$, where each vector $\\vec{x_i}$ represents multiple channels of data at a given timestep and $L$ is the total number of time steps. For this project, $\\vec{x_i}$ is the weather data for a given hour and $L=24$, the number of hours in a day. The activation vector $\\vec{A_i}$, is the hidden state of the RNN, and stores the information learned from the sequence at the current timestamp. It is calculated as $\\vec{A_i} = g(W\\vec{x_i} + U\\vec{A}_{i-1})$, where $W$ and $U$ are a pair of learnable weight matrices and $g$ is some activation function, like tanh. The size of $\\vec{A_i}$ is known as the number of hidden units in the RNN, and is a tunable hyperparameter. By computing $\\vec{A_i}$ based on not only the current $\\vec{x_i}$ but also the previous activation $\\vec{A}_{i-1}$, the RNN can maintain and utilize contextual information from all previous timesteps in a sequence along with the current timestep. Finally, the output $\\vec{O_i}$ is computed as $\\vec{O_i} = B\\vec{A_i}$, where $B$ is another set of learnable weights that transforms the hidden state to the output. The final output of the RNN is the final output vector $\\vec{O_L}$. "
   ]
  },
  {
   "cell_type": "markdown",
   "id": "1f539de3",
   "metadata": {},
   "source": [
    "# First Simple Model\n",
    "\n",
    "The first model that will be defined to try and solve this problem will have the following architecture:\n",
    "* A simple RNN layer with 8 hidden units\n",
    "* A dense layer with a sigmoid activation function to transform the output of the RNN to a single number that represents the probability that it will rain given the input data\n",
    "* As this is a binary classification problem, binary crossentropy will beused as a loss function\n",
    "* Adaptive Moment Estimation (ADAM) will be used as an optimizer\n",
    "* Model will be trained for 150 epochs with a batch size of 512\n",
    "\n",
    "An ensemble of 20 of these models will be trained:"
   ]
  },
  {
   "cell_type": "code",
   "execution_count": null,
   "id": "63e69f15",
   "metadata": {
    "ExecuteTime": {
     "end_time": "2023-10-08T18:13:39.178230Z",
     "start_time": "2023-10-08T18:13:39.159213Z"
    }
   },
   "outputs": [],
   "source": [
    "def make_simple_rnn(units):\n",
    "    \"\"\"Returns a function that generates simple RNN models with the provided number of hidden units\"\"\"\n",
    "    def get_model():\n",
    "        model = Sequential()\n",
    "        model.add(SimpleRNN(units, input_shape=(24, 5)))\n",
    "        model.add(Dense(1, activation='sigmoid'))\n",
    "        model.build(input_shape=(None, 24, 7))\n",
    "        model.compile(loss='binary_crossentropy', optimizer='adam', metrics=[\"accuracy\", custom_f1_score])\n",
    "        return model\n",
    "    return get_model"
   ]
  },
  {
   "cell_type": "code",
   "execution_count": null,
   "id": "1c8732a3",
   "metadata": {
    "ExecuteTime": {
     "end_time": "2023-10-08T18:14:01.013612Z",
     "start_time": "2023-10-08T18:13:45.783182Z"
    }
   },
   "outputs": [],
   "source": [
    "simpleRNN8 = ModelEnsemble.fit_models(20, \"SimpleRNN8\", make_simple_rnn(8), \"./ensembles\",\n",
    "                                      X_train, y_train, X_validate, y_validate,\n",
    "                                      load_from_file=True, show_results=True)"
   ]
  },
  {
   "cell_type": "markdown",
   "id": "6ed10de4",
   "metadata": {},
   "source": [
    "Glancing at the optimization plots for these models shows that a lot of the time the model does not optimize or the optimization quickly converges to a solution where the training accuracy is around 0.58 and the F1 score is 0. This represents the trivial solution where the model simply always predicts that it is not going to rain, which is the majority label class. While it is good that the model can find this solution, it is not very interesting. Luckily a few of the models find even better solutions, meaning that the model is able to pick up some patterns in the data to predict if it is going to rain or not. \n",
    "\n",
    "Next a violin plot will be made to visualize the distribution of the validation accuracy for all 20 models trained. A black dot will also be placed on the violin plot which represents the \"Ensemble Accuracy\", which is the accuracy if each model did a simple majority vote for if it is going to rain or not. "
   ]
  },
  {
   "cell_type": "code",
   "execution_count": null,
   "id": "2ee40ce3",
   "metadata": {
    "ExecuteTime": {
     "end_time": "2023-10-08T18:14:14.828586Z",
     "start_time": "2023-10-08T18:14:05.734901Z"
    }
   },
   "outputs": [],
   "source": [
    "model_comparison_plot = go.Figure()\n",
    "model_comparison_plot.update_yaxes(title_text=\"Validation Accuracy\")\n",
    "model_comparison_plot.add_traces(simpleRNN8.get_violin_plot_traces(X_validate, y_validate))\n",
    "model_comparison_plot.show()"
   ]
  },
  {
   "cell_type": "markdown",
   "id": "921582ba",
   "metadata": {},
   "source": [
    "Observations:\n",
    "* This distribution is significantly bimodal\n",
    "* 15 out of the 20 models found the trivial solution where the majority class was always predicted\n",
    "* The remaining 5 models managed to optimize to better solutions, the best of which has a validation accuracy of 0.765.\n",
    "* The ensemble as a whole voted to always predict all labels as 0"
   ]
  },
  {
   "cell_type": "markdown",
   "id": "db666d95",
   "metadata": {},
   "source": [
    "# Tune Number of Hidden Units"
   ]
  },
  {
   "cell_type": "markdown",
   "id": "5bcceca0",
   "metadata": {},
   "source": [
    "While the above model did manage to find a solution better than the trivial one in some cases, the majority of the time it failed to optimize to a worthwhile solution, meaning that the model was likely not complex enough to optimize consistently to a non-trivial solution. In order to help the model to consistently find the non-trivial solutions, the hyperparameter for the number of hidden units in the RNN layer of the model will be tuned. This will allow the RNN to store more features in its hidden state. \n",
    "\n",
    "Several model ensembles will now be created with different numbers of hidden units from 16 up to 512 (increasing by powers of 2). The distributions of validation accuracy for each ensemble will be added to the violin plot above in order to create a visual comparison of each model architecture's validation accuracy distribution. "
   ]
  },
  {
   "cell_type": "code",
   "execution_count": null,
   "id": "6758de81",
   "metadata": {
    "ExecuteTime": {
     "end_time": "2023-10-08T18:14:41.557543Z",
     "start_time": "2023-10-08T18:14:28.598744Z"
    }
   },
   "outputs": [],
   "source": [
    "simpleRNN16 = ModelEnsemble.fit_models(20, \"SimpleRNN16\", make_simple_rnn(16), \"./ensembles\",\n",
    "                                      X_train, y_train, X_validate, y_validate,\n",
    "                                      load_from_file=True, show_results=True)"
   ]
  },
  {
   "cell_type": "code",
   "execution_count": null,
   "id": "77793b1d",
   "metadata": {
    "ExecuteTime": {
     "end_time": "2023-10-08T18:14:54.825517Z",
     "start_time": "2023-10-08T18:14:41.559544Z"
    }
   },
   "outputs": [],
   "source": [
    "simpleRNN32 = ModelEnsemble.fit_models(20, \"SimpleRNN32\", make_simple_rnn(32), \"./ensembles\",\n",
    "                                      X_train, y_train, X_validate, y_validate,\n",
    "                                      load_from_file=True, show_results=True)"
   ]
  },
  {
   "cell_type": "code",
   "execution_count": null,
   "id": "d8e47d73",
   "metadata": {
    "ExecuteTime": {
     "end_time": "2023-10-08T18:15:07.515412Z",
     "start_time": "2023-10-08T18:14:54.827519Z"
    }
   },
   "outputs": [],
   "source": [
    "simpleRNN64 = ModelEnsemble.fit_models(20, \"SimpleRNN64\", make_simple_rnn(64), \"./ensembles\",\n",
    "                                      X_train, y_train, X_validate, y_validate,\n",
    "                                      load_from_file=True, show_results=True)"
   ]
  },
  {
   "cell_type": "code",
   "execution_count": null,
   "id": "18ad161a",
   "metadata": {
    "ExecuteTime": {
     "end_time": "2023-10-08T18:15:20.580784Z",
     "start_time": "2023-10-08T18:15:07.517414Z"
    }
   },
   "outputs": [],
   "source": [
    "simpleRNN128 = ModelEnsemble.fit_models(20, \"SimpleRNN128\", make_simple_rnn(128), \"./ensembles\",\n",
    "                                      X_train, y_train, X_validate, y_validate,\n",
    "                                      load_from_file=True, show_results=True)"
   ]
  },
  {
   "cell_type": "code",
   "execution_count": null,
   "id": "fdfbb651",
   "metadata": {
    "ExecuteTime": {
     "end_time": "2023-10-08T18:15:33.707392Z",
     "start_time": "2023-10-08T18:15:20.582786Z"
    }
   },
   "outputs": [],
   "source": [
    "simpleRNN256 = ModelEnsemble.fit_models(20, \"SimpleRNN256\", make_simple_rnn(256), \"./ensembles\",\n",
    "                                       X_train, y_train, X_validate, y_validate,\n",
    "                                       load_from_file=True, show_results=True)"
   ]
  },
  {
   "cell_type": "code",
   "execution_count": null,
   "id": "b01f1fdc",
   "metadata": {
    "ExecuteTime": {
     "end_time": "2023-10-08T18:15:47.458117Z",
     "start_time": "2023-10-08T18:15:33.709395Z"
    }
   },
   "outputs": [],
   "source": [
    "simpleRNN512 = ModelEnsemble.fit_models(20, \"SimpleRNN512\", make_simple_rnn(512), \"./ensembles\",\n",
    "                                       X_train, y_train, X_validate, y_validate,\n",
    "                                       load_from_file=True, show_results=True)"
   ]
  },
  {
   "cell_type": "code",
   "execution_count": null,
   "id": "c4eddbcf",
   "metadata": {
    "ExecuteTime": {
     "end_time": "2023-10-08T18:22:14.090259Z",
     "start_time": "2023-10-08T18:21:27.375744Z"
    }
   },
   "outputs": [],
   "source": [
    "model_comparison_plot.add_traces(simpleRNN16.get_violin_plot_traces(X_validate, y_validate))\n",
    "model_comparison_plot.add_traces(simpleRNN32.get_violin_plot_traces(X_validate, y_validate))\n",
    "model_comparison_plot.add_traces(simpleRNN64.get_violin_plot_traces(X_validate, y_validate))\n",
    "model_comparison_plot.add_traces(simpleRNN128.get_violin_plot_traces(X_validate, y_validate))\n",
    "model_comparison_plot.add_traces(simpleRNN256.get_violin_plot_traces(X_validate, y_validate))\n",
    "model_comparison_plot.add_traces(simpleRNN512.get_violin_plot_traces(X_validate, y_validate))\n",
    "model_comparison_plot.show()"
   ]
  },
  {
   "cell_type": "markdown",
   "id": "7228e564",
   "metadata": {},
   "source": [
    "Observations:\n",
    "* 16 hidden units causes more of the models in the ensemble to optimize to non-trivial solutions, but the majority are still finding the trivial solution.\n",
    "* 32 hidden units makes it so that the majority of models are optimizing to the non-trivial solutions, but some are still finding the trivial solution. \n",
    "* 64 hidden units is very similar to 32 hidden units but has a slightly higher mean (dotted line) meaning there are slightly more models that optimized to non-trivial solutions\n",
    "* 128 hidden units shows a vast improvement over previous model architectures. All models optimized non-trivial solution. However, the best performing models are worse than some of the best performing models with fewer hidden units\n",
    "* 256 hidden units is very similar to 128 hidden units, but the mean accuracy is a bit lower and the ensemble prediction accuracy is also a bit lower. \n",
    "* 512 is again similar to 128 and 256, but the mean is again slightly lower than 256 and the ensemble prediction is lower than the mean.\n",
    "\n",
    "Based on all these observations, 128 hidden units seems to be the best value. Although it does not provide the best maximum performance, it provides the most consistent performance, having a very low variance in validation accuracy as well as the highest mean and ensemble performance of all the ensembles trained."
   ]
  },
  {
   "cell_type": "markdown",
   "id": "a6504003",
   "metadata": {},
   "source": [
    "# Try Different RNN Types"
   ]
  },
  {
   "cell_type": "markdown",
   "id": "a1abe1f2",
   "metadata": {},
   "source": [
    "A major issue with the Simple RNN architectures used in all the models above is that they suffer from the vanishing/exploding gradient problem during backpropagation. This means that the gradients of the loss function can become vanishingly small or explode to huge numbers, hindering the optimization from finding the optimal parameters. This means that Simple RNNs often possess a limited short-term memory and struggle to capture long-term dependencies in the data. Several more sophisticated RNN variants exist, designed to address this gradient problem. The most common of these are the Long Short-Term Memory (LSTM) and the Gated Recurrent Unit (GRU), both of which employ specific gating mechanisms to manage long-term dependencies better.\n",
    "\n",
    "For this problem, given that there are only 24 timesteps per example, it's possible that the data sequence is short enough that such complex architectures might not be necessary. However, it is still worth exploring these other architectures. Therefore, two more ensembles will be trained next, one that is an LSTM with 128 hidden units and the other that is a GRU with 128 hidden units. The distribution of validation accuracies within these ensembles should give some clarity as to what flavor of RNN model is best for this problem."
   ]
  },
  {
   "cell_type": "code",
   "execution_count": null,
   "id": "7969d956",
   "metadata": {
    "ExecuteTime": {
     "end_time": "2023-10-08T18:22:35.881178Z",
     "start_time": "2023-10-08T18:22:35.870168Z"
    }
   },
   "outputs": [],
   "source": [
    "def make_lstm(units):\n",
    "    \"\"\"Returns a function that generates LSTM models with the provided number of hidden units\"\"\"\n",
    "    def get_model():\n",
    "        model = Sequential()\n",
    "        model.add(LSTM(units, input_shape=(24, 5)))\n",
    "        model.add(Dense(1, activation='sigmoid'))\n",
    "        model.build(input_shape=(None, 24, 7))\n",
    "        model.compile(loss='binary_crossentropy', optimizer='adam', metrics=[\"accuracy\", custom_f1_score])\n",
    "        return model\n",
    "    return get_model\n",
    "\n",
    "def make_gru(units):\n",
    "    \"\"\"Returns a function that generates GRU models with the provided number of hidden units\"\"\"\n",
    "    def get_model():\n",
    "        model = Sequential()\n",
    "        model.add(GRU(units, input_shape=(24, 5)))\n",
    "        model.add(Dense(1, activation='sigmoid'))\n",
    "        model.build(input_shape=(None, 24, 7))\n",
    "        model.compile(loss='binary_crossentropy', optimizer='adam', metrics=[\"accuracy\", custom_f1_score])\n",
    "        return model\n",
    "    return get_model"
   ]
  },
  {
   "cell_type": "code",
   "execution_count": null,
   "id": "0382f8e1",
   "metadata": {
    "ExecuteTime": {
     "end_time": "2023-10-08T18:22:52.094471Z",
     "start_time": "2023-10-08T18:22:36.111271Z"
    }
   },
   "outputs": [],
   "source": [
    "LSTM128 = ModelEnsemble.fit_models(20, \"LSTM128\", make_lstm(128), \"./ensembles\",\n",
    "                                      X_train, y_train, X_validate, y_validate,\n",
    "                                      load_from_file=True, show_results=True)"
   ]
  },
  {
   "cell_type": "code",
   "execution_count": null,
   "id": "7226c5c8",
   "metadata": {
    "ExecuteTime": {
     "end_time": "2023-10-08T18:23:07.185583Z",
     "start_time": "2023-10-08T18:22:52.096473Z"
    }
   },
   "outputs": [],
   "source": [
    "GRU128 = ModelEnsemble.fit_models(20, \"GRU128\", make_gru(128), \"./ensembles\",\n",
    "                                      X_train, y_train, X_validate, y_validate,\n",
    "                                      load_from_file=True, show_results=True)"
   ]
  },
  {
   "cell_type": "code",
   "execution_count": null,
   "id": "830690fd",
   "metadata": {
    "ExecuteTime": {
     "end_time": "2023-10-08T18:23:36.983393Z",
     "start_time": "2023-10-08T18:23:07.187585Z"
    }
   },
   "outputs": [],
   "source": [
    "model_comparison_plot2 = go.Figure()\n",
    "model_comparison_plot2.update_yaxes(title_text=\"Validation Accuracy\")\n",
    "model_comparison_plot2.add_traces(simpleRNN128.get_violin_plot_traces(X_validate, y_validate))\n",
    "model_comparison_plot2.add_traces(LSTM128.get_violin_plot_traces(X_validate, y_validate))\n",
    "model_comparison_plot2.add_traces(GRU128.get_violin_plot_traces(X_validate, y_validate))\n",
    "model_comparison_plot2.show()"
   ]
  },
  {
   "cell_type": "markdown",
   "id": "3b25549e",
   "metadata": {},
   "source": [
    "Observations\n",
    "* Compared to the Simple RNN, the LSTM has a higher mean accuracy and a slightly lower variance in accuracies. The ensemble prediction accuracy is also just as good as the best model's accuracy.\n",
    "* The GRU has a much higher variance in model accuracy and a lower mean than both the simple RNN and LSTM. ALso one model failed to find the non-trivial solution, which wasn't an issue for the other two model types.\n",
    "\n",
    "Based on these observations, while the Simple RNN and LSTM are very similar, the LSTM has slightly better performance. "
   ]
  },
  {
   "cell_type": "markdown",
   "id": "62a18f0c",
   "metadata": {},
   "source": [
    "# Try Adding an Additional Dense Layer"
   ]
  },
  {
   "cell_type": "markdown",
   "id": "3c2cae5f",
   "metadata": {},
   "source": [
    "Another avenue for potentially improving model performance is to make the model deeper. There are many ways this could be done but the way that will be explored here is the addition of an additional dense layer with a tunable number of units. The addition of this layer could potentially help in the classification of the features found by the RNN. Several model ensembles with an additional dense layer will be trained, ranging from 8 to 256 hidden units in the new dense layer. A simple RNN with 128 hidden units will be used for the RNN layer. "
   ]
  },
  {
   "cell_type": "code",
   "execution_count": null,
   "id": "7cb89b99",
   "metadata": {
    "ExecuteTime": {
     "end_time": "2023-10-08T18:23:36.999392Z",
     "start_time": "2023-10-08T18:23:36.986396Z"
    }
   },
   "outputs": [],
   "source": [
    "def make_simple_rnn_with_dense(rnn_units, dense_units):\n",
    "    \"\"\"Returns a function that generates simple RNN models with the provided number of RNN hidden units followed by a dense\n",
    "    layer with the given number of dense hidden units\"\"\"\n",
    "    def get_model():\n",
    "        model = Sequential()\n",
    "        model.add(SimpleRNN(rnn_units, input_shape=(24, 5)))\n",
    "        model.add(Dense(dense_units, activation=\"relu\"))\n",
    "        model.add(Dense(1, activation='sigmoid'))\n",
    "        model.build(input_shape=(None, 24, 7))\n",
    "        model.compile(loss='binary_crossentropy', optimizer='adam', metrics=[\"accuracy\", custom_f1_score])\n",
    "        return model\n",
    "    return get_model"
   ]
  },
  {
   "cell_type": "code",
   "execution_count": null,
   "id": "b0c04b44",
   "metadata": {
    "ExecuteTime": {
     "end_time": "2023-10-08T18:23:50.061505Z",
     "start_time": "2023-10-08T18:23:37.000395Z"
    }
   },
   "outputs": [],
   "source": [
    "simpleRNN128_dense8 = ModelEnsemble.fit_models(20, \"SimpleRNN128Dense8\", make_simple_rnn_with_dense(128, 8), \"./ensembles\",\n",
    "                                               X_train, y_train, X_validate, y_validate,\n",
    "                                               load_from_file=True, show_results=True)"
   ]
  },
  {
   "cell_type": "code",
   "execution_count": null,
   "id": "b100532a",
   "metadata": {
    "ExecuteTime": {
     "end_time": "2023-10-08T18:24:03.082350Z",
     "start_time": "2023-10-08T18:23:50.063508Z"
    }
   },
   "outputs": [],
   "source": [
    "simpleRNN128_dense16 = ModelEnsemble.fit_models(20, \"SimpleRNN128Dense16\", make_simple_rnn_with_dense(128, 16), \"./ensembles\",\n",
    "                                               X_train, y_train, X_validate, y_validate,\n",
    "                                               load_from_file=True, show_results=True)"
   ]
  },
  {
   "cell_type": "code",
   "execution_count": null,
   "id": "09d4abd0",
   "metadata": {
    "ExecuteTime": {
     "end_time": "2023-10-08T18:24:16.672539Z",
     "start_time": "2023-10-08T18:24:03.084353Z"
    }
   },
   "outputs": [],
   "source": [
    "simpleRNN128_dense32 = ModelEnsemble.fit_models(20, \"SimpleRNN128Dense32\", make_simple_rnn_with_dense(128, 32), \"./ensembles\",\n",
    "                                               X_train, y_train, X_validate, y_validate,\n",
    "                                               load_from_file=True, show_results=True)"
   ]
  },
  {
   "cell_type": "code",
   "execution_count": null,
   "id": "bbd5a279",
   "metadata": {
    "ExecuteTime": {
     "end_time": "2023-10-08T18:24:30.074562Z",
     "start_time": "2023-10-08T18:24:16.674540Z"
    }
   },
   "outputs": [],
   "source": [
    "simpleRNN128_dense64 = ModelEnsemble.fit_models(20, \"SimpleRNN128Dense64\", make_simple_rnn_with_dense(128, 64), \"./ensembles\",\n",
    "                                               X_train, y_train, X_validate, y_validate,\n",
    "                                               load_from_file=True, show_results=True)"
   ]
  },
  {
   "cell_type": "code",
   "execution_count": null,
   "id": "a6f4f901",
   "metadata": {
    "ExecuteTime": {
     "end_time": "2023-10-08T18:24:43.723108Z",
     "start_time": "2023-10-08T18:24:30.076566Z"
    }
   },
   "outputs": [],
   "source": [
    "simpleRNN128_dense128 = ModelEnsemble.fit_models(20, \"SimpleRNN128Dense128\", make_simple_rnn_with_dense(128, 128), \"./ensembles\",\n",
    "                                               X_train, y_train, X_validate, y_validate,\n",
    "                                               load_from_file=True, show_results=True)"
   ]
  },
  {
   "cell_type": "code",
   "execution_count": null,
   "id": "c47945d7",
   "metadata": {
    "ExecuteTime": {
     "end_time": "2023-10-08T18:24:57.125886Z",
     "start_time": "2023-10-08T18:24:43.727113Z"
    }
   },
   "outputs": [],
   "source": [
    "simpleRNN128_dense256 = ModelEnsemble.fit_models(20, \"SimpleRNN128Dense256\", make_simple_rnn_with_dense(128, 256), \"./ensembles\",\n",
    "                                               X_train, y_train, X_validate, y_validate,\n",
    "                                               load_from_file=True, show_results=True)"
   ]
  },
  {
   "cell_type": "code",
   "execution_count": null,
   "id": "3c76e516",
   "metadata": {
    "ExecuteTime": {
     "end_time": "2023-10-08T18:25:52.870492Z",
     "start_time": "2023-10-08T18:24:57.127888Z"
    }
   },
   "outputs": [],
   "source": [
    "model_comparison_plot3 = go.Figure()\n",
    "model_comparison_plot3.update_yaxes(title_text=\"Validation Accuracy\")\n",
    "model_comparison_plot3.add_traces(simpleRNN128.get_violin_plot_traces(X_validate, y_validate))\n",
    "model_comparison_plot3.add_traces(simpleRNN128_dense8.get_violin_plot_traces(X_validate, y_validate))\n",
    "model_comparison_plot3.add_traces(simpleRNN128_dense16.get_violin_plot_traces(X_validate, y_validate))\n",
    "model_comparison_plot3.add_traces(simpleRNN128_dense32.get_violin_plot_traces(X_validate, y_validate))\n",
    "model_comparison_plot3.add_traces(simpleRNN128_dense64.get_violin_plot_traces(X_validate, y_validate))\n",
    "model_comparison_plot3.add_traces(simpleRNN128_dense128.get_violin_plot_traces(X_validate, y_validate))\n",
    "model_comparison_plot3.add_traces(simpleRNN128_dense256.get_violin_plot_traces(X_validate, y_validate))\n",
    "model_comparison_plot3.show()"
   ]
  },
  {
   "cell_type": "markdown",
   "id": "7eb234a3",
   "metadata": {},
   "source": [
    "Observations:\n",
    "* Additional dense layers with 8, 16, and 32 hidden units all mostly found non-trivial solutions, but they also all had at least one model that optimized to the trivial solution.\n",
    "* 64 hidden units in the new dense layer is the first that does not find a trivial solution, but the mean and ensemble validation accuracies are both lower than not using an additional dense layer. \n",
    "* 128 hidden units in the new dense layer shows similar performance to not having an additional dense layer, but with a higher variance in performance, having both better and worse models.\n",
    "* 256 hidden units in the new dense layer shows the best performance. It his the highest mean and ensemble validation accuracy as well as the best performing individual model over all.\n",
    "\n",
    "Based on these observations, adding an additional dense layer with 256 hidden units to the simple RNN provides the best performance."
   ]
  },
  {
   "cell_type": "markdown",
   "id": "baac0743",
   "metadata": {},
   "source": [
    "# Grid Search"
   ]
  },
  {
   "cell_type": "markdown",
   "id": "d820a832",
   "metadata": {},
   "source": [
    "So far, three variables have been explored to determine how they effect the rainfall predictor model's validation accuracy.\n",
    "1. Number of hidden units in the RNN\n",
    "2. RNN Type\n",
    "3. Number of hidden units in an additional dense layer\n",
    "\n",
    "While these experiments have given insight into how each of these variables effects the model performance, it still cannot be said for certain what the best combination of these parameters are, as there are still many combinations that haven't been tried. All of the models trained so far train in a short amount of time so it is computationally feasible to perform a grid search over all combinations of these three variables to see what combination leads to the best performance. Two dataframes will be defined, one that tracks the accuracy, F1 Score, and the area under the receiver operator characteristic curve (AUC) for each model trained and one that tracks those same three metrics for each ensemble's prediction. All metrics are against the validation data."
   ]
  },
  {
   "cell_type": "code",
   "execution_count": null,
   "id": "45bc9353",
   "metadata": {
    "ExecuteTime": {
     "end_time": "2023-10-08T18:25:52.886507Z",
     "start_time": "2023-10-08T18:25:52.872493Z"
    }
   },
   "outputs": [],
   "source": [
    "def make_rnn_model(layer_type, rnn_units, dense_units):\n",
    "    \"\"\"Returns a function that generates RNN models with the provided number of layer_type hidden units followed by a dense\n",
    "    layer with the given number of dense hidden units\"\"\"\n",
    "    def get_model():\n",
    "        model = Sequential()\n",
    "        if layer_type == \"SimpleRNN\":\n",
    "            model.add(SimpleRNN(rnn_units, input_shape=(24, 5)))\n",
    "        elif layer_type == \"LSTM\":\n",
    "            model.add(LSTM(rnn_units, input_shape=(24, 5)))\n",
    "        elif layer_type == \"GRU\":\n",
    "            model.add(GRU(rnn_units, input_shape=(24, 5)))\n",
    "\n",
    "        if dense_units > 0:\n",
    "            model.add(Dense(dense_units, activation=\"relu\"))\n",
    "\n",
    "        model.add(Dense(1, activation='sigmoid'))\n",
    "        model.compile(loss='binary_crossentropy', optimizer='adam', metrics=[\"accuracy\", custom_f1_score])\n",
    "        return model\n",
    "    \n",
    "    return get_model"
   ]
  },
  {
   "cell_type": "code",
   "execution_count": null,
   "id": "6537d054",
   "metadata": {
    "ExecuteTime": {
     "end_time": "2023-10-08T18:53:19.316932Z",
     "start_time": "2023-10-08T18:25:52.888509Z"
    }
   },
   "outputs": [],
   "source": [
    "layer_types = [\"SimpleRNN\", \"LSTM\", \"GRU\"]\n",
    "rnn_unit_nums = [8, 16, 32, 64, 128, 256]\n",
    "dense_unit_nums = [0, 8, 16, 32, 64, 128, 256]\n",
    "\n",
    "model_results_df = pd.DataFrame(columns=[\"Ensemble Name\", \"Model Num\", \"Validation Accuracy\", \"Validation F1 Score\", \"Validation AUC\"])\n",
    "ensemble_results_df = pd.DataFrame(columns=[\"Ensemble Name\", \"Ensemble\", \"Validation Accuracy\", \"Validation F1 Score\", \"Validation AUC\"])\n",
    "\n",
    "for layer_type in layer_types:\n",
    "    for rnn_units in rnn_unit_nums:\n",
    "        for dense_units in dense_unit_nums:\n",
    "            ensemble_name = f\"{layer_type}{rnn_units}Dense{dense_units}\"\n",
    "            ensemble = ModelEnsemble.fit_models(20, ensemble_name, make_rnn_model(layer_type, rnn_units, dense_units), \"./ensembles/grid_search\",\n",
    "                                               X_train, y_train, X_validate, y_validate,\n",
    "                                               load_from_file=True, show_results=False)\n",
    "            \n",
    "            for i in range(len(ensemble.model_trainers)):\n",
    "                y_hat = ensemble.model_trainers[i].predict(X_validate)\n",
    "                acc = accuracy_score(y_validate, y_hat)\n",
    "                f1 = f1_score(y_validate, y_hat)\n",
    "                roc = roc_auc_score(y_validate, y_hat)\n",
    "\n",
    "                model_results_df.loc[len(model_results_df.index)] = [ensemble_name, i, acc, f1, roc]\n",
    "                \n",
    "            y_hat_ensemble = ensemble.ensemble_predict(X_validate)\n",
    "            acc_ensemble = accuracy_score(y_validate, y_hat_ensemble)\n",
    "            f1_ensemble = f1_score(y_validate, y_hat_ensemble)\n",
    "            roc_ensemble = roc_auc_score(y_validate, y_hat_ensemble)\n",
    "            ensemble_results_df.loc[len(ensemble_results_df.index)] = [ensemble_name, ensemble, acc_ensemble, f1_ensemble, roc_ensemble]            "
   ]
  },
  {
   "cell_type": "code",
   "execution_count": null,
   "id": "3d32b700",
   "metadata": {
    "ExecuteTime": {
     "end_time": "2023-10-08T18:53:19.332947Z",
     "start_time": "2023-10-08T18:53:19.318935Z"
    }
   },
   "outputs": [],
   "source": [
    "model_results_df.head()"
   ]
  },
  {
   "cell_type": "code",
   "execution_count": null,
   "id": "414ea749",
   "metadata": {
    "ExecuteTime": {
     "end_time": "2023-10-08T18:53:19.348962Z",
     "start_time": "2023-10-08T18:53:19.334950Z"
    }
   },
   "outputs": [],
   "source": [
    "ensemble_results_df.head()"
   ]
  },
  {
   "cell_type": "markdown",
   "id": "8995a168",
   "metadata": {},
   "source": [
    "# Grid Search Results"
   ]
  },
  {
   "cell_type": "markdown",
   "id": "0289ed46",
   "metadata": {},
   "source": [
    "With the grid search done there are several different metrics that could be used to say which model and ensemble did the best. The metrics that will be used are\n",
    "* Maximum accuracy, F1 score, and AUC of any model. This represents the architecture that has the potential for the highest performance in a given metric\n",
    "* Mean accuracy, F1 score, and AUC of any model architecture. This represents the architecture that performs best individually on average across multiple trained models\n",
    "* Ensemble accuracy, F1 score, and AUC of any model architecture. This represents the architecture whose individual models most accurately vote for the best solution. "
   ]
  },
  {
   "cell_type": "markdown",
   "id": "40775da4",
   "metadata": {},
   "source": [
    "### Max Accuracy Model"
   ]
  },
  {
   "cell_type": "code",
   "execution_count": null,
   "id": "7fb908c1",
   "metadata": {
    "ExecuteTime": {
     "end_time": "2023-10-08T18:53:19.364976Z",
     "start_time": "2023-10-08T18:53:19.350965Z"
    }
   },
   "outputs": [],
   "source": [
    "model_results_df.iloc[np.argmax(model_results_df[\"Validation Accuracy\"])]"
   ]
  },
  {
   "cell_type": "markdown",
   "id": "dbc28b4e",
   "metadata": {},
   "source": [
    "### Max F1 Score Model"
   ]
  },
  {
   "cell_type": "code",
   "execution_count": null,
   "id": "a46ae6c2",
   "metadata": {
    "ExecuteTime": {
     "end_time": "2023-10-08T18:53:19.380991Z",
     "start_time": "2023-10-08T18:53:19.366978Z"
    }
   },
   "outputs": [],
   "source": [
    "model_results_df.iloc[np.argmax(model_results_df[\"Validation F1 Score\"])]"
   ]
  },
  {
   "cell_type": "markdown",
   "id": "38cd933c",
   "metadata": {},
   "source": [
    "### Max AUC Model"
   ]
  },
  {
   "cell_type": "code",
   "execution_count": null,
   "id": "5aced6d1",
   "metadata": {
    "ExecuteTime": {
     "end_time": "2023-10-08T18:53:19.396004Z",
     "start_time": "2023-10-08T18:53:19.382994Z"
    }
   },
   "outputs": [],
   "source": [
    "model_results_df.iloc[np.argmax(model_results_df[\"Validation AUC\"])]"
   ]
  },
  {
   "cell_type": "markdown",
   "id": "cd4fc31c",
   "metadata": {},
   "source": [
    "To help determine the models with the best mean performance, make a new results dataframe that has all of the mean performances of each model architecture. "
   ]
  },
  {
   "cell_type": "code",
   "execution_count": null,
   "id": "e390c606",
   "metadata": {
    "ExecuteTime": {
     "end_time": "2023-10-08T18:53:19.412019Z",
     "start_time": "2023-10-08T18:53:19.398007Z"
    }
   },
   "outputs": [],
   "source": [
    "mean_model_results_df = model_results_df.groupby([\"Ensemble Name\"]).mean().drop([\"Model Num\"], axis=1)\n",
    "mean_model_results_df.head()"
   ]
  },
  {
   "cell_type": "markdown",
   "id": "18837481",
   "metadata": {},
   "source": [
    "### Best Mean Accuracy Model"
   ]
  },
  {
   "cell_type": "code",
   "execution_count": null,
   "id": "e0396e15",
   "metadata": {
    "ExecuteTime": {
     "end_time": "2023-10-08T18:53:19.428033Z",
     "start_time": "2023-10-08T18:53:19.413019Z"
    }
   },
   "outputs": [],
   "source": [
    "mean_model_results_df.iloc[np.argmax(mean_model_results_df[\"Validation Accuracy\"])]"
   ]
  },
  {
   "cell_type": "markdown",
   "id": "78d64103",
   "metadata": {},
   "source": [
    "### Best Mean F1 Score Model"
   ]
  },
  {
   "cell_type": "code",
   "execution_count": null,
   "id": "b970e55a",
   "metadata": {
    "ExecuteTime": {
     "end_time": "2023-10-08T18:53:19.444046Z",
     "start_time": "2023-10-08T18:53:19.430035Z"
    }
   },
   "outputs": [],
   "source": [
    "mean_model_results_df.iloc[np.argmax(mean_model_results_df[\"Validation F1 Score\"])]"
   ]
  },
  {
   "cell_type": "markdown",
   "id": "a121071c",
   "metadata": {},
   "source": [
    "### Best Mean AUC Model"
   ]
  },
  {
   "cell_type": "code",
   "execution_count": null,
   "id": "a350de64",
   "metadata": {
    "ExecuteTime": {
     "end_time": "2023-10-08T18:53:19.460028Z",
     "start_time": "2023-10-08T18:53:19.446048Z"
    }
   },
   "outputs": [],
   "source": [
    "mean_model_results_df.iloc[np.argmax(mean_model_results_df[\"Validation AUC\"])]"
   ]
  },
  {
   "cell_type": "markdown",
   "id": "c72fc3b7",
   "metadata": {},
   "source": [
    "### Best Ensemble Accuracy Model"
   ]
  },
  {
   "cell_type": "code",
   "execution_count": null,
   "id": "b5eb326f",
   "metadata": {
    "ExecuteTime": {
     "end_time": "2023-10-08T18:53:19.476040Z",
     "start_time": "2023-10-08T18:53:19.462030Z"
    }
   },
   "outputs": [],
   "source": [
    "ensemble_results_df.iloc[np.argmax(ensemble_results_df[\"Validation Accuracy\"])]"
   ]
  },
  {
   "cell_type": "markdown",
   "id": "718da8d4",
   "metadata": {},
   "source": [
    "### Best Ensemble F1 Score Model"
   ]
  },
  {
   "cell_type": "code",
   "execution_count": null,
   "id": "8281cb90",
   "metadata": {
    "ExecuteTime": {
     "end_time": "2023-10-08T18:53:19.491657Z",
     "start_time": "2023-10-08T18:53:19.478043Z"
    }
   },
   "outputs": [],
   "source": [
    "ensemble_results_df.iloc[np.argmax(ensemble_results_df[\"Validation F1 Score\"])]"
   ]
  },
  {
   "cell_type": "markdown",
   "id": "b4473152",
   "metadata": {},
   "source": [
    "### Best Ensemble AUC Model"
   ]
  },
  {
   "cell_type": "code",
   "execution_count": null,
   "id": "8dbaf484",
   "metadata": {
    "ExecuteTime": {
     "end_time": "2023-10-08T18:53:19.507676Z",
     "start_time": "2023-10-08T18:53:19.493661Z"
    }
   },
   "outputs": [],
   "source": [
    "ensemble_results_df.iloc[np.argmax(ensemble_results_df[\"Validation AUC\"])]"
   ]
  },
  {
   "cell_type": "markdown",
   "id": "64b74550",
   "metadata": {},
   "source": [
    "Based on these metrics, five model architectures are candidates for the best.\n",
    "* SimpleRNN16Dense0: Max Accuracy Model\n",
    "* SimpleRNN32Dense8: Max F1 Score and AUC Model\n",
    "* LSTM256Dense64: Best Mean Model across all metrics\n",
    "* LSTM16Dense128: Best ensemble accuracy and AUC Model\n",
    "* LSTM32Dense128: Best ensemble F1 Score\n",
    "\n",
    "Finally, in order to determine which of these candidate architectures is the best, a violin plot will be made to compare their validation accuracies. "
   ]
  },
  {
   "cell_type": "code",
   "execution_count": null,
   "id": "eaf9b9d9",
   "metadata": {
    "ExecuteTime": {
     "end_time": "2023-10-08T18:53:42.559406Z",
     "start_time": "2023-10-08T18:53:19.509679Z"
    }
   },
   "outputs": [],
   "source": [
    "best_ensemble_names = [\"SimpleRNN16Dense0\", \"SimpleRNN32Dense8\", \"LSTM256Dense64\", \"LSTM16Dense128\", \"LSTM32Dense128\"]\n",
    "\n",
    "best_ensemble_compare_plot = go.Figure()\n",
    "for name in best_ensemble_names:\n",
    "    best_ensemble_compare_plot.add_traces(ensemble_results_df.loc[ensemble_results_df[\"Ensemble Name\"] == name].iloc[0][\"Ensemble\"].get_violin_plot_traces(X_validate, y_validate))\n",
    "    \n",
    "best_ensemble_compare_plot.update_yaxes(title_text=\"Validation Accuracy\")\n",
    "    \n",
    "best_ensemble_compare_plot.show()"
   ]
  },
  {
   "cell_type": "markdown",
   "id": "e39bf6d8",
   "metadata": {},
   "source": [
    "Observations:\n",
    "* All of the models besides LSTM256Dense64 optimize to the trivial solution at least once.\n",
    "* LSTM16Dense128 is the only architecture found so far where the ensemble accuracy is better than any of the individual model accuracies.\n",
    "* Both SimpleRNN16Dense0 and SimpleRNN32Dense8 find the trivial solution a majority of the time, despite them both also having some models that have higher accuracy than any of the other architectures. \n",
    "\n",
    "Based on these observations the best choice of architecture is LSTM256Dense64, as although it does not have the best performing models, it is the architecture that consistently optimizes to the same solution, which gives it the best mean accuracy."
   ]
  },
  {
   "cell_type": "markdown",
   "id": "667746ae",
   "metadata": {},
   "source": [
    "# Run Best Architecture on Test Data"
   ]
  },
  {
   "cell_type": "code",
   "execution_count": null,
   "id": "3d51b760",
   "metadata": {
    "ExecuteTime": {
     "end_time": "2023-10-08T18:53:49.718157Z",
     "start_time": "2023-10-08T18:53:42.561408Z"
    }
   },
   "outputs": [],
   "source": [
    "best_ensemble = ensemble_results_df.loc[ensemble_results_df[\"Ensemble Name\"] == \"LSTM256Dense64\"].iloc[0][\"Ensemble\"]\n",
    "\n",
    "test_data_plot = go.Figure()\n",
    "\n",
    "test_data_plot.add_traces(best_ensemble.get_violin_plot_traces(X_validate, y_validate))\n",
    "test_data_plot.add_traces(best_ensemble.get_violin_plot_traces(X_test, y_test))\n",
    "    \n",
    "# Modify default plot names\n",
    "test_data_plot.data[0].name = 'LSTM256Dense64 Validation'\n",
    "test_data_plot.data[0].legendgroup = 'LSTM256Dense64 Validation'\n",
    "test_data_plot.data[1].name = 'LSTM256Dense64 Validation'\n",
    "test_data_plot.data[1].legendgroup = 'LSTM256Dense64 Validation'\n",
    "test_data_plot.data[1].x = ['LSTM256Dense64 Validation']\n",
    "\n",
    "test_data_plot.data[2].name = 'LSTM256Dense64 Test'\n",
    "test_data_plot.data[2].legendgroup = 'LSTM256Dense64 Test'\n",
    "test_data_plot.data[3].name = 'LSTM256Dense64 Test'\n",
    "test_data_plot.data[3].legendgroup = 'LSTM256Dense64 Test'\n",
    "test_data_plot.data[3].x = ['LSTM256Dense64 Test']\n",
    "\n",
    "\n",
    "test_data_plot.update_yaxes(title_text=\"Accuracy\")\n",
    "test_data_plot.show()"
   ]
  },
  {
   "cell_type": "markdown",
   "id": "3bd807f3",
   "metadata": {},
   "source": [
    "Observations:\n",
    "* Higher variance of performances on test data vs validation data\n",
    "* Several models achieved better accuracy on the test data than any model did on the validation data. Best model has an accuracy of 0.79.\n",
    "* Data has both better mean and ensemble accuracy on the test data."
   ]
  },
  {
   "cell_type": "markdown",
   "id": "bb91ee6f",
   "metadata": {},
   "source": [
    "To get a better idea of where the best model created gets the rainfall prediction wrong, a histogram will be made of how many days in each month 2023 (the test year) the model got wrong. "
   ]
  },
  {
   "cell_type": "code",
   "execution_count": null,
   "id": "e10eb505",
   "metadata": {
    "ExecuteTime": {
     "end_time": "2023-10-08T19:19:15.210911Z",
     "start_time": "2023-10-08T19:19:13.236118Z"
    }
   },
   "outputs": [],
   "source": [
    "test_accuracies = []\n",
    "for i in range(len(best_ensemble.model_trainers)):\n",
    "    test_accuracies.append(accuracy_score(y_test, best_ensemble.model_trainers[i].predict(X_test)))\n",
    "\n",
    "best_model_test = best_ensemble.model_trainers[np.argmin(test_accuracies)]\n",
    "\n",
    "wrong_dates = days_test[np.where(~(best_model_test.predict(X_test) == y_test))]\n",
    "wrong_date_months = [calendar.month_name[x.month] for x in wrong_dates]\n",
    "\n",
    "fig = go.Figure()\n",
    "fig.add_trace(go.Histogram(x=wrong_date_months))\n",
    "fig.update_yaxes(title_text=\"Wrong Label Count\")\n",
    "fig.update_xaxes(\n",
    "    title_text=\"Month\",\n",
    "    type='category',\n",
    "    categoryorder='array',\n",
    "    categoryarray=['January', 'February', 'March', 'April', 'May', 'June', 'July', 'August', 'September', 'October', 'November', 'December']\n",
    ")\n",
    "\n",
    "fig.show()"
   ]
  },
  {
   "cell_type": "markdown",
   "id": "5bed58e4",
   "metadata": {},
   "source": [
    "Observations:\n",
    "* Model seems to perform best in summer months where there is the least amount of precipitation and worse in winter and spring months where there is a lot of rainfall.\n",
    "* Unfortunately, the test data does not go into the late fall months so they cannot be tested."
   ]
  },
  {
   "cell_type": "markdown",
   "id": "bc8a1efb",
   "metadata": {},
   "source": [
    "# Conclusion"
   ]
  },
  {
   "cell_type": "markdown",
   "id": "0d717db8",
   "metadata": {},
   "source": [
    "The aim of this project was to use deep learning techniques to construct a binary classifier capable of predicting if it will rain on a given day in Seattle, Washington, utilizing various channels of weather data from the preceding day. The `meteostat` library served as the source for hourly weather data, which was subsequently cleaned and formatted. A division into train, validation, and test sets was performed, with all days in the current year (2023) allocated as test data, and the remaining data randomly segmented 80/20 into training and validation datasets.\n",
    "\n",
    "A Recurrent Neural Network (RNN) was chosen as the model architecture architecture, given its aptitude for managing sequential time series data. Three different model architecture parameters were investigated to see how they effected model performance: the number of hidden units in the RNN, the type of RNN (Simple RNN, LSTM, or GRU), and the number of hidden units in the subsequent dense layer. Recognizing the impact of each variable on performance, a grid search was then used to identify the best combination of these parameters.\n",
    "\n",
    "Ultimately, the highest-performing model architecture used an LSTM with 256 hidden units, succeeded by a dense layer featuring 64 hidden units, and finally an output dense layer with a singular unit. This final architecture had a mean accuracy of 77.4% on the a maximum accuracy of 79% on the test data across multiple trainings. \n",
    "\n",
    "While the final model does perform decently well, it does not perform well enough and does not return detailed enough results to replace traditional meteorological models. There are several avenues that could be explored in the future to make it perform better such as:\n",
    "* Experimenting with even more model architectures, perhaps additional LSTM layers or more dense layers.\n",
    "* Finding more detailed weather data to be used as input to the model. The data used was only hourly data and higher frequency data may lead to better results.\n",
    "* Similarly, finding additional channels of weather data may lead to better results."
   ]
  },
  {
   "cell_type": "code",
   "execution_count": null,
   "id": "079033ef",
   "metadata": {},
   "outputs": [],
   "source": []
  }
 ],
 "metadata": {
  "kernelspec": {
   "display_name": "Python 3 (ipykernel)",
   "language": "python",
   "name": "python3"
  },
  "language_info": {
   "codemirror_mode": {
    "name": "ipython",
    "version": 3
   },
   "file_extension": ".py",
   "mimetype": "text/x-python",
   "name": "python",
   "nbconvert_exporter": "python",
   "pygments_lexer": "ipython3",
   "version": "3.10.9"
  }
 },
 "nbformat": 4,
 "nbformat_minor": 5
}
